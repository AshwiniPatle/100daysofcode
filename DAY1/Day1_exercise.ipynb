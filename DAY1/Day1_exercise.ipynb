{
 "cells": [
  {
   "cell_type": "markdown",
   "id": "262f7981-f49b-4cae-bd6e-27cb0261f388",
   "metadata": {},
   "source": [
    "Printing Practice\n",
    "\n",
    "Write a program that uses print statements to print the following recipe into the Output console. The text to print is already there, you just need to make it into code. Your code should print all five lines exactly the same as the example output below. Make sure that you don't change any of these existing text as everything, punctuation and casing all need to match!\n",
    "\n",
    "1. Mix 500g of Flour, 10g Yeast and 300ml Water in a bowl.\n",
    "2. Knead the dough for 10 minutes.\n",
    "3. Add 3g of Salt.\n",
    "4. Leave to rise for 2 hours.\n",
    "5. Bake at 200 degrees C for 30 minutes."
   ]
  },
  {
   "cell_type": "code",
   "execution_count": 4,
   "id": "9a0b4b06-c472-4fdf-8122-cc13d3de7c91",
   "metadata": {},
   "outputs": [
    {
     "name": "stdout",
     "output_type": "stream",
     "text": [
      "1. Mix 500g of Flour, 10g Yeast and 300ml Water in a bowl.\n",
      "2. Knead the dough for 10 minutes.\n",
      "3. Add 3g of Salt.\n",
      "4. Leave to rise for 2 hours.\n",
      "5. Bake at 200 degrees C for 30 minutes.\n"
     ]
    }
   ],
   "source": [
    "#we use three quotes here so that it would take it as a paragraph\n",
    "print(\"\"\"1. Mix 500g of Flour, 10g Yeast and 300ml Water in a bowl.\n",
    "2. Knead the dough for 10 minutes.\n",
    "3. Add 3g of Salt.\n",
    "4. Leave to rise for 2 hours.\n",
    "5. Bake at 200 degrees C for 30 minutes.\"\"\")"
   ]
  },
  {
   "cell_type": "markdown",
   "id": "c2cc34a8-2352-42b9-984a-04bd2b9244f8",
   "metadata": {},
   "source": [
    "Debugging Practice\n",
    "\n",
    "Look at the code in the code editor. There are errors on all 5 lines of code. Fix the code so that it runs without errors.\n",
    "\n",
    "Try to run the code and debug each line using the error messages and feedback.\n",
    "\n",
    "# Fix the code below 👇\n",
    "\n",
    "print(Notes from Day 1\")\n",
    "\n",
    "print(\"The print statement is used to output strings\")\n",
    "\n",
    "print(\"Strings are strings of characters\"\n",
    "\n",
    "priint(\"String Concatenation is done with the + sign\")\n",
    "\n",
    "print((\"New lines can be created with a \\\\ and the letter n\")\n"
   ]
  },
  {
   "cell_type": "code",
   "execution_count": 19,
   "id": "07edae35-4002-40ec-b102-3e3701149667",
   "metadata": {},
   "outputs": [
    {
     "name": "stdout",
     "output_type": "stream",
     "text": [
      "Notes from Day 1\n",
      "The print statement is used to output strings\n",
      "Strings are strings of characters\n",
      "String Concatenation is done with the + sign\n",
      "New lines can be created with a \\ and the letter n\n"
     ]
    }
   ],
   "source": [
    "#In Python, the backslash \\ is used as an escape character (for things like \\n = newline, \\t = tab).\n",
    "#So, if you want to actually print a literal backslash, you need to escape it with another backslash:\n",
    "\n",
    "\n",
    "print(\"Notes from Day 1\")\n",
    "\n",
    "print(\"The print statement is used to output strings\")\n",
    "\n",
    "print(\"Strings are strings of characters\")\n",
    "\n",
    "print(\"String Concatenation is done with the + sign\")\n",
    "\n",
    "print(\"New lines can be created with a \\\\ and the letter n\")"
   ]
  },
  {
   "cell_type": "markdown",
   "id": "12c2ffdc-2c7f-4e65-ad3d-59d837fa4912",
   "metadata": {},
   "source": [
    "Variables\n",
    "\n",
    "We have 2 variables glass1 and glass2. glass1 contains milk and glass2 contains juice. Write 3 lines of code to switch the contents of the variables. You are not allowed to type the words \"milk\" or \"juice\". You are only allowed to use variables to solve this exercise."
   ]
  },
  {
   "cell_type": "code",
   "execution_count": 26,
   "id": "d684c9aa-79cb-4424-b13e-39d86fe91e7a",
   "metadata": {},
   "outputs": [
    {
     "name": "stdout",
     "output_type": "stream",
     "text": [
      "juice\n",
      "milk\n"
     ]
    }
   ],
   "source": [
    "glass1 = \"milk\"\n",
    "glass2 = \"juice\"\n",
    "glass3 = glass1\n",
    "glass1 = glass2\n",
    "glass2 = glass3\n",
    "print(glass1)\n",
    "print(glass2)"
   ]
  }
 ],
 "metadata": {
  "kernelspec": {
   "display_name": "Python [conda env:base] *",
   "language": "python",
   "name": "conda-base-py"
  },
  "language_info": {
   "codemirror_mode": {
    "name": "ipython",
    "version": 3
   },
   "file_extension": ".py",
   "mimetype": "text/x-python",
   "name": "python",
   "nbconvert_exporter": "python",
   "pygments_lexer": "ipython3",
   "version": "3.12.7"
  }
 },
 "nbformat": 4,
 "nbformat_minor": 5
}
