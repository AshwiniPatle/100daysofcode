{
 "cells": [
  {
   "cell_type": "markdown",
   "id": "4e817a2c-3d01-4f6a-9103-f0103c557b4f",
   "metadata": {},
   "source": [
    "# BMI Calculator\n",
    "The body mass index (BMI) is a measure used in medicine to see if someone is underweight or overweight. This is the formula used to calculate it:\n",
    "\n",
    "\n",
    "\n",
    "bmi is equal to the person's weight divided by the person's height squared.\n",
    "\n",
    "\n",
    "\n",
    "Convert this sentence into code on line 6.\n",
    "\n",
    "height = 1.65 \n",
    "weight = 84\n",
    "\n",
    "#Write your code here.\n",
    "\n",
    "#Calculate the bmi using weight and height.\n",
    "\n",
    "bmi =\n",
    "\n",
    "print(bmi)\n"
   ]
  },
  {
   "cell_type": "code",
   "execution_count": 5,
   "id": "25cd9e6b-5721-430d-8db4-da14a297d416",
   "metadata": {},
   "outputs": [
    {
     "name": "stdout",
     "output_type": "stream",
     "text": [
      "30.85399449035813\n"
     ]
    }
   ],
   "source": [
    "height = 1.65 \n",
    "weight = 84\n",
    "\n",
    "#Write your code here.\n",
    "\n",
    "#Calculate the bmi using weight and height.\n",
    "\n",
    "bmi =weight/height**2\n",
    "\n",
    "print(bmi)"
   ]
  }
 ],
 "metadata": {
  "kernelspec": {
   "display_name": "Python [conda env:base] *",
   "language": "python",
   "name": "conda-base-py"
  },
  "language_info": {
   "codemirror_mode": {
    "name": "ipython",
    "version": 3
   },
   "file_extension": ".py",
   "mimetype": "text/x-python",
   "name": "python",
   "nbconvert_exporter": "python",
   "pygments_lexer": "ipython3",
   "version": "3.12.7"
  }
 },
 "nbformat": 4,
 "nbformat_minor": 5
}
