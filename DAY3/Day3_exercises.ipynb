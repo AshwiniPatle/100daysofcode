{
 "cells": [
  {
   "cell_type": "markdown",
   "id": "75e45249-7b2c-4079-af85-69fa3aea1c2e",
   "metadata": {},
   "source": [
    "# BMI Calculator with Interpretations\n",
    "Add some if/elif/else statements to the BMI calculator so that it interprets the BMI values calculated.\n",
    "\n",
    "If the bmi is under 18.5 (not including), print out \"underweight\"\n",
    "\n",
    "If the bmi is between 18.5 (including) and 25 (not including), print out \"normal weight\"\n",
    "\n",
    "If the bmi is 25 (including) or over, print out \"overweight\""
   ]
  },
  {
   "cell_type": "code",
   "execution_count": 8,
   "id": "fd4da4d4-46c5-4bfd-aa99-c355ad86d796",
   "metadata": {},
   "outputs": [
    {
     "name": "stdout",
     "output_type": "stream",
     "text": [
      "normal weight\n"
     ]
    }
   ],
   "source": [
    "weight = 85\n",
    "height = 1.85\n",
    "\n",
    "bmi = weight / (height ** 2)\n",
    "\n",
    "# 🚨 Do not modify the values above\n",
    "# Write your code below 👇\n",
    "if bmi < 18.5:\n",
    "    print(\"underweight\")\n",
    "elif 18.5<= bmi < 25:\n",
    "    print(\"normal weight\")\n",
    "else:\n",
    "    print(\"overweight\")"
   ]
  },
  {
   "cell_type": "markdown",
   "id": "3b2138eb-3b50-487b-a26c-f672be859c99",
   "metadata": {},
   "source": [
    "# Pizza Order Exercise\n",
    "Congratulations, you've got a job at Python Pizza. Your first job is to build an automatic pizza order program.\n",
    "\n",
    "Based on a user's order, work out their final bill.\n",
    "\n",
    "Small Pizza: $15\n",
    "\n",
    "Medium Pizza: $20\n",
    "\n",
    "Large Pizza: $25\n",
    "\n",
    "Pepperoni for Small Pizza: +$2\n",
    "\n",
    "Pepperoni for Medium or Large Pizza: +$3\n",
    "\n",
    "Extra cheese for any size pizza: + $1"
   ]
  },
  {
   "cell_type": "code",
   "execution_count": 18,
   "id": "1a29075e-767e-493c-ae73-b1161d8af1af",
   "metadata": {},
   "outputs": [
    {
     "name": "stdout",
     "output_type": "stream",
     "text": [
      "Welcome to python pizza delivery\n"
     ]
    },
    {
     "name": "stdin",
     "output_type": "stream",
     "text": [
      "What size pizza do you want? S, M, L?  S\n",
      "do you want pepperoni on your pizza? Y or N?:  Y\n",
      "do you want extra cheese in your pizza ? Y or N?:  Y\n"
     ]
    },
    {
     "name": "stdout",
     "output_type": "stream",
     "text": [
      "your bill is 18\n"
     ]
    }
   ],
   "source": [
    "print(\"Welcome to python pizza delivery\")\n",
    "size = input(\"What size pizza do you want? S, M, L? \")\n",
    "#pepperoni = input(\"do you want pepperoni on your pizza? Y or N?: \")\n",
    "#extra_cheese = input(\"do you want extra cheese in your pizza ? Y or N?: \")\n",
    "bill = 0\n",
    "if size == \"S\":\n",
    "    bill += 15\n",
    "elif size == \"M\":\n",
    "    bill+= 20\n",
    "elif size == \"L\":\n",
    "    bill+=25\n",
    "else:\n",
    "    print(\"Please help us with the size of the pizza\")\n",
    "pepperoni = input(\"do you want pepperoni on your pizza? Y or N?: \")\n",
    "if pepperoni == \"Y\":\n",
    "    if size == \"S\":\n",
    "        bill += 2\n",
    "    else:\n",
    "        bill+= 3\n",
    "else:\n",
    "    bill += 0\n",
    "extra_cheese = input(\"do you want extra cheese in your pizza ? Y or N?: \")\n",
    "if extra_cheese == \"Y\":\n",
    "    bill += 1\n",
    "print(f\"your bill is {bill}\") "
   ]
  },
  {
   "cell_type": "markdown",
   "id": "0ce9ab91-97a9-4e3f-a3dd-13862e638978",
   "metadata": {},
   "source": [
    "# Rollercoaster height checker\n",
    "\n",
    "Write a Python program that greets users entering a rollercoaster and checks whether they meet the height requirement. \n",
    "If the user's height is greater than 120 cm, the program should output \"can't ride\"; \n",
    "otherwise, it should output \"can ride.\""
   ]
  },
  {
   "cell_type": "code",
   "execution_count": 41,
   "id": "f14da9c6-9a0b-4d77-a641-7fff872ac0e4",
   "metadata": {},
   "outputs": [
    {
     "name": "stdout",
     "output_type": "stream",
     "text": [
      "Welcome to the rollercoaster!!\n"
     ]
    },
    {
     "name": "stdin",
     "output_type": "stream",
     "text": [
      "May I know your height in cm please?  123\n",
      "May I also know age please? 14\n",
      "Do you want a photo? Y or N Y\n"
     ]
    },
    {
     "name": "stdout",
     "output_type": "stream",
     "text": [
      "you bill is 10\n"
     ]
    }
   ],
   "source": [
    "print(\"Welcome to the rollercoaster!!\")\n",
    "bill = 0\n",
    "height = int(input(\"May I know your height in cm please? \"))\n",
    "if height >= 120:\n",
    "    age = int(input(\"May I also know age please?\"))\n",
    "    if age < 12:\n",
    "        bill += 5\n",
    "    elif age <= 18:\n",
    "        bill += 7\n",
    "    else:\n",
    "        bill += 12\n",
    "    photos = input(\"Do you want a photo? Y or N\")\n",
    "    if photos == \"Y\":\n",
    "        bill += 3\n",
    "    print(f\"you bill is {bill}\")\n",
    "else:\n",
    "    print(\"Sorry you have to grow taller before you can ride\")\n"
   ]
  },
  {
   "cell_type": "markdown",
   "id": "070bce87-a048-49de-bf6f-e4f526cb2160",
   "metadata": {},
   "source": [
    "# Even or Odd\n",
    "Write a program that works out whether if a given number is an odd or even number.\n",
    "\n",
    "Even numbers can be divided by 2 with no remainder.\n",
    "\n",
    "e.g. 86 is even because 86 ÷ 2 = 43\n",
    "\n",
    "43 does not have any decimal places. Therefore the division is clean.\n",
    "\n",
    "e.g. 59 is odd because 59 ÷ 2 = 29.5\n",
    "\n",
    "29.5 is not a whole number, it has decimal places. Therefore there is a remainder of 0.5, so the division is not clean.\n",
    "\n",
    "The modulo is written as a percentage sign (%) in Python. It gives you the remainder after a division.\n",
    "\n",
    "e.g.\n",
    "\n",
    "6 ÷ 2 = 3 with no remainder.\n",
    "\n",
    "therefore: 6 % 2 = 0\n",
    "\n",
    "5 ÷ 2 = 2 x 2 + 1, remainder is 1.\n",
    "\n",
    "therefore: 5 % 2 = 1\n",
    "\n",
    "14 ÷ 4 = 3 x 4 + 2, remainder is 2.\n",
    "\n",
    "therefore: 14 % 4 = 2"
   ]
  },
  {
   "cell_type": "code",
   "execution_count": 27,
   "id": "528fed01-43b1-4534-8f7b-eb6e39ce286a",
   "metadata": {},
   "outputs": [
    {
     "name": "stdin",
     "output_type": "stream",
     "text": [
      "please enter any random number 33\n"
     ]
    },
    {
     "name": "stdout",
     "output_type": "stream",
     "text": [
      "33 is odd number\n"
     ]
    }
   ],
   "source": [
    "num = int(input(\"please enter any random number\"))\n",
    "if num % 2 == 0:\n",
    "    print(f\"{num} is even number\")\n",
    "else:\n",
    "    print(f\"{num} is odd number\")"
   ]
  }
 ],
 "metadata": {
  "kernelspec": {
   "display_name": "Python [conda env:base] *",
   "language": "python",
   "name": "conda-base-py"
  },
  "language_info": {
   "codemirror_mode": {
    "name": "ipython",
    "version": 3
   },
   "file_extension": ".py",
   "mimetype": "text/x-python",
   "name": "python",
   "nbconvert_exporter": "python",
   "pygments_lexer": "ipython3",
   "version": "3.12.7"
  }
 },
 "nbformat": 4,
 "nbformat_minor": 5
}
